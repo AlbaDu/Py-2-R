{
  "cells": [
    {
      "cell_type": "markdown",
      "metadata": {
        "id": "3CpegKpG023X",
        "colab_type": "text"
      },
      "source": [
        "# Traducción: Python to R\n",
        "A continuación, deberás \"traducir\" estos ejercicios de programación en Python, al lenguaje R, en R-Studio."
      ]
    },
    {
      "cell_type": "code",
      "metadata": {
        "id": "n_3RMv1K023b",
        "colab_type": "code",
        "colab": {}
      },
      "source": [
        "import pandas as pd\n",
        "import numpy as np\n",
        "import matplotlib.pyplot as plt"
      ],
      "execution_count": 27,
      "outputs": []
    },
    {
      "cell_type": "code",
      "metadata": {
        "id": "QPzZOGN9023n",
        "colab_type": "code",
        "colab": {}
      },
      "source": [
        "#Ejercicios de W2-3.1.WarmUp_CombiningDatasets"
      ],
      "execution_count": 28,
      "outputs": []
    },
    {
      "cell_type": "markdown",
      "metadata": {
        "id": "HTuNgqin023u",
        "colab_type": "text"
      },
      "source": [
        "## Combining datasets\n",
        "### Example: US States Data\n",
        "Merge and join operations come up most often when combining data from different sources. Here we will consider an example of some data about US states and their populations. The data files can be found at http://github.com/jakevdp/data-USstates/:"
      ]
    },
    {
      "cell_type": "code",
      "metadata": {
        "id": "ICIvAPis023y",
        "colab_type": "code",
        "colab": {},
        "outputId": "e351ff30-0dc5-4575-c30a-476351a7b4c7"
      },
      "source": [
        "pop = pd.read_csv(\"C:\\\\Users\\\\34609\\\\Documents\\\\DataTB\\\\4.R\\\\Trans Py2R\\\\state-population.csv\") \n",
        "areas = pd.read_csv(\"C:\\\\Users\\\\34609\\\\Documents\\\\DataTB\\\\4.R\\\\Trans Py2R\\\\state-areas.csv\")\n",
        "abbrevs = pd.read_csv(\"C:\\\\Users\\\\34609\\\\Documents\\\\DataTB\\\\4.R\\\\Trans Py2R\\\\state-abbrevs.csv\")\n",
        "\n",
        "display(pop.head(3), areas.head(3), abbrevs.head(3)) #show the head of the 3 imported .csv files"
      ],
      "execution_count": 29,
      "outputs": [
        {
          "output_type": "display_data",
          "data": {
            "text/plain": "  state/region     ages  year  population\n0           AL  under18  2012   1117489.0\n1           AL    total  2012   4817528.0\n2           AL  under18  2010   1130966.0",
            "text/html": "<div>\n<style scoped>\n    .dataframe tbody tr th:only-of-type {\n        vertical-align: middle;\n    }\n\n    .dataframe tbody tr th {\n        vertical-align: top;\n    }\n\n    .dataframe thead th {\n        text-align: right;\n    }\n</style>\n<table border=\"1\" class=\"dataframe\">\n  <thead>\n    <tr style=\"text-align: right;\">\n      <th></th>\n      <th>state/region</th>\n      <th>ages</th>\n      <th>year</th>\n      <th>population</th>\n    </tr>\n  </thead>\n  <tbody>\n    <tr>\n      <th>0</th>\n      <td>AL</td>\n      <td>under18</td>\n      <td>2012</td>\n      <td>1117489.0</td>\n    </tr>\n    <tr>\n      <th>1</th>\n      <td>AL</td>\n      <td>total</td>\n      <td>2012</td>\n      <td>4817528.0</td>\n    </tr>\n    <tr>\n      <th>2</th>\n      <td>AL</td>\n      <td>under18</td>\n      <td>2010</td>\n      <td>1130966.0</td>\n    </tr>\n  </tbody>\n</table>\n</div>"
          },
          "metadata": {}
        },
        {
          "output_type": "display_data",
          "data": {
            "text/plain": "     state  area (sq. mi)\n0  Alabama          52423\n1   Alaska         656425\n2  Arizona         114006",
            "text/html": "<div>\n<style scoped>\n    .dataframe tbody tr th:only-of-type {\n        vertical-align: middle;\n    }\n\n    .dataframe tbody tr th {\n        vertical-align: top;\n    }\n\n    .dataframe thead th {\n        text-align: right;\n    }\n</style>\n<table border=\"1\" class=\"dataframe\">\n  <thead>\n    <tr style=\"text-align: right;\">\n      <th></th>\n      <th>state</th>\n      <th>area (sq. mi)</th>\n    </tr>\n  </thead>\n  <tbody>\n    <tr>\n      <th>0</th>\n      <td>Alabama</td>\n      <td>52423</td>\n    </tr>\n    <tr>\n      <th>1</th>\n      <td>Alaska</td>\n      <td>656425</td>\n    </tr>\n    <tr>\n      <th>2</th>\n      <td>Arizona</td>\n      <td>114006</td>\n    </tr>\n  </tbody>\n</table>\n</div>"
          },
          "metadata": {}
        },
        {
          "output_type": "display_data",
          "data": {
            "text/plain": "     state abbreviation\n0  Alabama           AL\n1   Alaska           AK\n2  Arizona           AZ",
            "text/html": "<div>\n<style scoped>\n    .dataframe tbody tr th:only-of-type {\n        vertical-align: middle;\n    }\n\n    .dataframe tbody tr th {\n        vertical-align: top;\n    }\n\n    .dataframe thead th {\n        text-align: right;\n    }\n</style>\n<table border=\"1\" class=\"dataframe\">\n  <thead>\n    <tr style=\"text-align: right;\">\n      <th></th>\n      <th>state</th>\n      <th>abbreviation</th>\n    </tr>\n  </thead>\n  <tbody>\n    <tr>\n      <th>0</th>\n      <td>Alabama</td>\n      <td>AL</td>\n    </tr>\n    <tr>\n      <th>1</th>\n      <td>Alaska</td>\n      <td>AK</td>\n    </tr>\n    <tr>\n      <th>2</th>\n      <td>Arizona</td>\n      <td>AZ</td>\n    </tr>\n  </tbody>\n</table>\n</div>"
          },
          "metadata": {}
        }
      ]
    },
    {
      "cell_type": "markdown",
      "metadata": {
        "id": "kzqAaDvh024E",
        "colab_type": "text"
      },
      "source": [
        "Junta en un mismo DataFrame la informarción de pop y abbrevs, eliminando la información duplicada."
      ]
    },
    {
      "cell_type": "code",
      "metadata": {
        "id": "uhTDtWoL024H",
        "colab_type": "code",
        "colab": {},
        "outputId": "a8d228c1-c4ec-4f64-cc0e-2079047a1109"
      },
      "source": [
        "merged = pd.merge(pop, abbrevs, how ='outer', left_on ='state/region', right_on ='abbreviation') #how indicates that\n",
        "merged = merged.drop('state/region', 1) # drop duplicate info\n",
        "merged.head()\n",
        "\n",
        "#IMPORTANT!! [How] indicates that we want all the information to get in the new DF. [lefy_on] together with [right_on] indicate the columns that the old DF get merged by.  "
      ],
      "execution_count": 30,
      "outputs": [
        {
          "output_type": "execute_result",
          "data": {
            "text/plain": "      ages  year  population    state abbreviation\n0  under18  2012   1117489.0  Alabama           AL\n1    total  2012   4817528.0  Alabama           AL\n2  under18  2010   1130966.0  Alabama           AL\n3    total  2010   4785570.0  Alabama           AL\n4  under18  2011   1125763.0  Alabama           AL",
            "text/html": "<div>\n<style scoped>\n    .dataframe tbody tr th:only-of-type {\n        vertical-align: middle;\n    }\n\n    .dataframe tbody tr th {\n        vertical-align: top;\n    }\n\n    .dataframe thead th {\n        text-align: right;\n    }\n</style>\n<table border=\"1\" class=\"dataframe\">\n  <thead>\n    <tr style=\"text-align: right;\">\n      <th></th>\n      <th>ages</th>\n      <th>year</th>\n      <th>population</th>\n      <th>state</th>\n      <th>abbreviation</th>\n    </tr>\n  </thead>\n  <tbody>\n    <tr>\n      <th>0</th>\n      <td>under18</td>\n      <td>2012</td>\n      <td>1117489.0</td>\n      <td>Alabama</td>\n      <td>AL</td>\n    </tr>\n    <tr>\n      <th>1</th>\n      <td>total</td>\n      <td>2012</td>\n      <td>4817528.0</td>\n      <td>Alabama</td>\n      <td>AL</td>\n    </tr>\n    <tr>\n      <th>2</th>\n      <td>under18</td>\n      <td>2010</td>\n      <td>1130966.0</td>\n      <td>Alabama</td>\n      <td>AL</td>\n    </tr>\n    <tr>\n      <th>3</th>\n      <td>total</td>\n      <td>2010</td>\n      <td>4785570.0</td>\n      <td>Alabama</td>\n      <td>AL</td>\n    </tr>\n    <tr>\n      <th>4</th>\n      <td>under18</td>\n      <td>2011</td>\n      <td>1125763.0</td>\n      <td>Alabama</td>\n      <td>AL</td>\n    </tr>\n  </tbody>\n</table>\n</div>"
          },
          "metadata": {},
          "execution_count": 30
        }
      ]
    },
    {
      "cell_type": "code",
      "metadata": {
        "id": "POxycd8l024R",
        "colab_type": "code",
        "colab": {},
        "outputId": "538ffff0-0096-4348-f6de-b08cc3359493"
      },
      "source": [
        "merged.describe() #statistical info of the DF"
      ],
      "execution_count": 31,
      "outputs": [
        {
          "output_type": "execute_result",
          "data": {
            "text/plain": "              year    population\ncount  2544.000000  2.524000e+03\nmean   2001.500000  6.805558e+06\nstd       6.923547  2.855014e+07\nmin    1990.000000  1.013090e+05\n25%    1995.750000  7.423805e+05\n50%    2001.500000  1.597005e+06\n75%    2007.250000  4.547104e+06\nmax    2013.000000  3.161288e+08",
            "text/html": "<div>\n<style scoped>\n    .dataframe tbody tr th:only-of-type {\n        vertical-align: middle;\n    }\n\n    .dataframe tbody tr th {\n        vertical-align: top;\n    }\n\n    .dataframe thead th {\n        text-align: right;\n    }\n</style>\n<table border=\"1\" class=\"dataframe\">\n  <thead>\n    <tr style=\"text-align: right;\">\n      <th></th>\n      <th>year</th>\n      <th>population</th>\n    </tr>\n  </thead>\n  <tbody>\n    <tr>\n      <th>count</th>\n      <td>2544.000000</td>\n      <td>2.524000e+03</td>\n    </tr>\n    <tr>\n      <th>mean</th>\n      <td>2001.500000</td>\n      <td>6.805558e+06</td>\n    </tr>\n    <tr>\n      <th>std</th>\n      <td>6.923547</td>\n      <td>2.855014e+07</td>\n    </tr>\n    <tr>\n      <th>min</th>\n      <td>1990.000000</td>\n      <td>1.013090e+05</td>\n    </tr>\n    <tr>\n      <th>25%</th>\n      <td>1995.750000</td>\n      <td>7.423805e+05</td>\n    </tr>\n    <tr>\n      <th>50%</th>\n      <td>2001.500000</td>\n      <td>1.597005e+06</td>\n    </tr>\n    <tr>\n      <th>75%</th>\n      <td>2007.250000</td>\n      <td>4.547104e+06</td>\n    </tr>\n    <tr>\n      <th>max</th>\n      <td>2013.000000</td>\n      <td>3.161288e+08</td>\n    </tr>\n  </tbody>\n</table>\n</div>"
          },
          "metadata": {},
          "execution_count": 31
        }
      ]
    },
    {
      "cell_type": "code",
      "metadata": {
        "id": "GhOQOg_-024f",
        "colab_type": "code",
        "colab": {},
        "outputId": "db15bf0c-a07d-422b-b312-17f6dcc705a5"
      },
      "source": [
        "merged.isnull().any() #display if in any category has null values"
      ],
      "execution_count": 32,
      "outputs": [
        {
          "output_type": "execute_result",
          "data": {
            "text/plain": "ages            False\nyear            False\npopulation       True\nstate            True\nabbreviation     True\ndtype: bool"
          },
          "metadata": {},
          "execution_count": 32
        }
      ]
    },
    {
      "cell_type": "markdown",
      "metadata": {
        "id": "p-FRGreg024u",
        "colab_type": "text"
      },
      "source": [
        "Some of the ``population`` info is null; let's figure out which these are!"
      ]
    },
    {
      "cell_type": "code",
      "metadata": {
        "id": "xCZQrinQ024x",
        "colab_type": "code",
        "colab": {},
        "outputId": "371b6bcd-a149-4c50-bf03-26c1aea5684d",
        "tags": []
      },
      "source": [
        "print(merged[\"population\"].isnull().value_counts())\n",
        "print(merged.shape)\n",
        "merged.head(3)"
      ],
      "execution_count": 36,
      "outputs": [
        {
          "output_type": "stream",
          "name": "stdout",
          "text": "False    2524\nTrue       20\nName: population, dtype: int64\n(2544, 5)\n"
        },
        {
          "output_type": "execute_result",
          "data": {
            "text/plain": "      ages  year  population    state abbreviation\n0  under18  2012   1117489.0  Alabama           AL\n1    total  2012   4817528.0  Alabama           AL\n2  under18  2010   1130966.0  Alabama           AL",
            "text/html": "<div>\n<style scoped>\n    .dataframe tbody tr th:only-of-type {\n        vertical-align: middle;\n    }\n\n    .dataframe tbody tr th {\n        vertical-align: top;\n    }\n\n    .dataframe thead th {\n        text-align: right;\n    }\n</style>\n<table border=\"1\" class=\"dataframe\">\n  <thead>\n    <tr style=\"text-align: right;\">\n      <th></th>\n      <th>ages</th>\n      <th>year</th>\n      <th>population</th>\n      <th>state</th>\n      <th>abbreviation</th>\n    </tr>\n  </thead>\n  <tbody>\n    <tr>\n      <th>0</th>\n      <td>under18</td>\n      <td>2012</td>\n      <td>1117489.0</td>\n      <td>Alabama</td>\n      <td>AL</td>\n    </tr>\n    <tr>\n      <th>1</th>\n      <td>total</td>\n      <td>2012</td>\n      <td>4817528.0</td>\n      <td>Alabama</td>\n      <td>AL</td>\n    </tr>\n    <tr>\n      <th>2</th>\n      <td>under18</td>\n      <td>2010</td>\n      <td>1130966.0</td>\n      <td>Alabama</td>\n      <td>AL</td>\n    </tr>\n  </tbody>\n</table>\n</div>"
          },
          "metadata": {},
          "execution_count": 36
        }
      ]
    },
    {
      "cell_type": "code",
      "metadata": {
        "scrolled": true,
        "id": "ZhC8LzcA025C",
        "colab_type": "code",
        "colab": {},
        "outputId": "01d7c375-d82c-4313-cbb4-8b91415e66c1",
        "tags": []
      },
      "source": [
        "merged.dropna(inplace = True) #elimination of the NaN\n",
        "print(merged.shape)\n",
        "merged.head(3)"
      ],
      "execution_count": 25,
      "outputs": [
        {
          "output_type": "stream",
          "name": "stdout",
          "text": "(2448, 5)\n"
        },
        {
          "output_type": "execute_result",
          "data": {
            "text/plain": "      ages  year  population    state abbreviation\n0  under18  2012   1117489.0  Alabama           AL\n1    total  2012   4817528.0  Alabama           AL\n2  under18  2010   1130966.0  Alabama           AL",
            "text/html": "<div>\n<style scoped>\n    .dataframe tbody tr th:only-of-type {\n        vertical-align: middle;\n    }\n\n    .dataframe tbody tr th {\n        vertical-align: top;\n    }\n\n    .dataframe thead th {\n        text-align: right;\n    }\n</style>\n<table border=\"1\" class=\"dataframe\">\n  <thead>\n    <tr style=\"text-align: right;\">\n      <th></th>\n      <th>ages</th>\n      <th>year</th>\n      <th>population</th>\n      <th>state</th>\n      <th>abbreviation</th>\n    </tr>\n  </thead>\n  <tbody>\n    <tr>\n      <th>0</th>\n      <td>under18</td>\n      <td>2012</td>\n      <td>1117489.0</td>\n      <td>Alabama</td>\n      <td>AL</td>\n    </tr>\n    <tr>\n      <th>1</th>\n      <td>total</td>\n      <td>2012</td>\n      <td>4817528.0</td>\n      <td>Alabama</td>\n      <td>AL</td>\n    </tr>\n    <tr>\n      <th>2</th>\n      <td>under18</td>\n      <td>2010</td>\n      <td>1130966.0</td>\n      <td>Alabama</td>\n      <td>AL</td>\n    </tr>\n  </tbody>\n</table>\n</div>"
          },
          "metadata": {},
          "execution_count": 25
        }
      ]
    },
    {
      "cell_type": "code",
      "metadata": {
        "scrolled": true,
        "id": "aqVSu0FN025U",
        "colab_type": "code",
        "colab": {},
        "outputId": "5385fcac-821d-4c85-9d11-304e689be61c"
      },
      "source": [
        "final = pd.merge(merged, areas, on =\"state\", how = \"left\")\n",
        "final.head(3)"
      ],
      "execution_count": 37,
      "outputs": [
        {
          "output_type": "execute_result",
          "data": {
            "text/plain": "      ages  year  population    state abbreviation  area (sq. mi)\n0  under18  2012   1117489.0  Alabama           AL        52423.0\n1    total  2012   4817528.0  Alabama           AL        52423.0\n2  under18  2010   1130966.0  Alabama           AL        52423.0",
            "text/html": "<div>\n<style scoped>\n    .dataframe tbody tr th:only-of-type {\n        vertical-align: middle;\n    }\n\n    .dataframe tbody tr th {\n        vertical-align: top;\n    }\n\n    .dataframe thead th {\n        text-align: right;\n    }\n</style>\n<table border=\"1\" class=\"dataframe\">\n  <thead>\n    <tr style=\"text-align: right;\">\n      <th></th>\n      <th>ages</th>\n      <th>year</th>\n      <th>population</th>\n      <th>state</th>\n      <th>abbreviation</th>\n      <th>area (sq. mi)</th>\n    </tr>\n  </thead>\n  <tbody>\n    <tr>\n      <th>0</th>\n      <td>under18</td>\n      <td>2012</td>\n      <td>1117489.0</td>\n      <td>Alabama</td>\n      <td>AL</td>\n      <td>52423.0</td>\n    </tr>\n    <tr>\n      <th>1</th>\n      <td>total</td>\n      <td>2012</td>\n      <td>4817528.0</td>\n      <td>Alabama</td>\n      <td>AL</td>\n      <td>52423.0</td>\n    </tr>\n    <tr>\n      <th>2</th>\n      <td>under18</td>\n      <td>2010</td>\n      <td>1130966.0</td>\n      <td>Alabama</td>\n      <td>AL</td>\n      <td>52423.0</td>\n    </tr>\n  </tbody>\n</table>\n</div>"
          },
          "metadata": {},
          "execution_count": 37
        }
      ]
    },
    {
      "cell_type": "code",
      "metadata": {
        "scrolled": false,
        "id": "fDQQ_g8r025n",
        "colab_type": "code",
        "colab": {},
        "outputId": "cce8835f-8436-48d3-aa2e-b827024e59c6"
      },
      "source": [
        "final.dropna(inplace = True)\n",
        "final.head(3)"
      ],
      "execution_count": 39,
      "outputs": [
        {
          "output_type": "execute_result",
          "data": {
            "text/plain": "      ages  year  population    state abbreviation  area (sq. mi)\n0  under18  2012   1117489.0  Alabama           AL        52423.0\n1    total  2012   4817528.0  Alabama           AL        52423.0\n2  under18  2010   1130966.0  Alabama           AL        52423.0",
            "text/html": "<div>\n<style scoped>\n    .dataframe tbody tr th:only-of-type {\n        vertical-align: middle;\n    }\n\n    .dataframe tbody tr th {\n        vertical-align: top;\n    }\n\n    .dataframe thead th {\n        text-align: right;\n    }\n</style>\n<table border=\"1\" class=\"dataframe\">\n  <thead>\n    <tr style=\"text-align: right;\">\n      <th></th>\n      <th>ages</th>\n      <th>year</th>\n      <th>population</th>\n      <th>state</th>\n      <th>abbreviation</th>\n      <th>area (sq. mi)</th>\n    </tr>\n  </thead>\n  <tbody>\n    <tr>\n      <th>0</th>\n      <td>under18</td>\n      <td>2012</td>\n      <td>1117489.0</td>\n      <td>Alabama</td>\n      <td>AL</td>\n      <td>52423.0</td>\n    </tr>\n    <tr>\n      <th>1</th>\n      <td>total</td>\n      <td>2012</td>\n      <td>4817528.0</td>\n      <td>Alabama</td>\n      <td>AL</td>\n      <td>52423.0</td>\n    </tr>\n    <tr>\n      <th>2</th>\n      <td>under18</td>\n      <td>2010</td>\n      <td>1130966.0</td>\n      <td>Alabama</td>\n      <td>AL</td>\n      <td>52423.0</td>\n    </tr>\n  </tbody>\n</table>\n</div>"
          },
          "metadata": {},
          "execution_count": 39
        }
      ]
    },
    {
      "cell_type": "markdown",
      "metadata": {
        "id": "Ym3VQxYr025-",
        "colab_type": "text"
      },
      "source": [
        "#### Feature Engineering - Coders survey \n",
        "Import the dataset in fcc_2016_coder_survey_subset.csv"
      ]
    },
    {
      "cell_type": "code",
      "metadata": {
        "id": "qwXM6lOL026E",
        "colab_type": "code",
        "colab": {},
        "outputId": "d9b91eac-1495-4f1a-a01b-718430b21cd4"
      },
      "source": [
        "coder_survey = pd.read_csv(\"C:\\\\Users\\\\34609\\\\Documents\\\\DataTB\\\\4.R\\\\Trans Py2R\\\\fcc_2016_coder_survey_subset.csv\", encoding = \"utf-8\")\n",
        "coder_survey[[\"ID.x\",\"EmploymentField\", \"Age\", \"Income\"]].head(3)"
      ],
      "execution_count": 45,
      "outputs": [
        {
          "output_type": "execute_result",
          "data": {
            "text/plain": "                               ID.x                    EmploymentField   Age  \\\n0  cef35615d61b202f1dc794ef2746df14  office and administrative support  28.0   \n1  323e5a113644d18185c743c241407754                  food and beverage  22.0   \n2  b29a1027e5cd062e654a63764157461d                            finance  19.0   \n\n    Income  \n0  32000.0  \n1  15000.0  \n2  48000.0  ",
            "text/html": "<div>\n<style scoped>\n    .dataframe tbody tr th:only-of-type {\n        vertical-align: middle;\n    }\n\n    .dataframe tbody tr th {\n        vertical-align: top;\n    }\n\n    .dataframe thead th {\n        text-align: right;\n    }\n</style>\n<table border=\"1\" class=\"dataframe\">\n  <thead>\n    <tr style=\"text-align: right;\">\n      <th></th>\n      <th>ID.x</th>\n      <th>EmploymentField</th>\n      <th>Age</th>\n      <th>Income</th>\n    </tr>\n  </thead>\n  <tbody>\n    <tr>\n      <th>0</th>\n      <td>cef35615d61b202f1dc794ef2746df14</td>\n      <td>office and administrative support</td>\n      <td>28.0</td>\n      <td>32000.0</td>\n    </tr>\n    <tr>\n      <th>1</th>\n      <td>323e5a113644d18185c743c241407754</td>\n      <td>food and beverage</td>\n      <td>22.0</td>\n      <td>15000.0</td>\n    </tr>\n    <tr>\n      <th>2</th>\n      <td>b29a1027e5cd062e654a63764157461d</td>\n      <td>finance</td>\n      <td>19.0</td>\n      <td>48000.0</td>\n    </tr>\n  </tbody>\n</table>\n</div>"
          },
          "metadata": {},
          "execution_count": 45
        }
      ]
    },
    {
      "cell_type": "code",
      "metadata": {
        "id": "jD4xRJ5P026d",
        "colab_type": "code",
        "colab": {},
        "outputId": "f4e37124-03bb-45e4-f4af-7ea7bc0ef1d2"
      },
      "source": [
        "coder_survey[\"EmploymentField\"].unique()"
      ],
      "execution_count": 46,
      "outputs": [
        {
          "output_type": "execute_result",
          "data": {
            "text/plain": "array(['office and administrative support', 'food and beverage',\n       'finance', 'arts, entertainment, sports, or media', 'education',\n       'software development', nan, 'health care', 'sales',\n       'law enforcement and fire and rescue', 'transportation',\n       'architecture or physical engineering',\n       'construction and extraction', 'software development and IT',\n       'farming, fishing, and forestry', 'legal'], dtype=object)"
          },
          "metadata": {},
          "execution_count": 46
        }
      ]
    },
    {
      "cell_type": "markdown",
      "metadata": {
        "id": "KhdqIEb4026x",
        "colab_type": "text"
      },
      "source": [
        "## Fixed-width binning\n",
        "### Developer age distribution - qiutar\n",
        "Binning based on rounding\n",
        "\n",
        "Crea una nueva columna en el dataframe, que muestre categorías (bins) como se muestra a continuación:\n",
        "```\n",
        "Age Range: Bin\n",
        "---------------\n",
        " 0 -  9  : 0\n",
        "10 - 19  : 1\n",
        "20 - 29  : 2\n",
        "30 - 39  : 3\n",
        "40 - 49  : 4\n",
        "50 - 59  : 5\n",
        "60 - 69  : 6\n",
        "  ... and so on"
      ]
    },
    {
      "cell_type": "code",
      "metadata": {
        "id": "wI2mRScU027B",
        "colab_type": "code",
        "colab": {},
        "outputId": "2f729612-cc5d-4623-b506-89778d3c6286"
      },
      "source": [
        "coder_survey[\"Age_bin_round\"] = np.array(np.floor(np.array(coder_survey[\"Age\"]) / 10.)) #[Age] divided by 10 generation of an array, rounded to the lowest number and generate a new array\n",
        "coder_survey[[\"ID.x\", \"Age\", \"Age_bin_round\"]].tail(3)"
      ],
      "execution_count": 54,
      "outputs": [
        {
          "output_type": "execute_result",
          "data": {
            "text/plain": "                                   ID.x   Age  Age_bin_round\n15617  5b1323796ca6ab9a58936ff772dbb988  37.0            3.0\n15618  afe9f743395dedb14b09fe3e1c4db2a6  26.0            2.0\n15619  bcfd613973e7746c38f49cd8dfd9ec6c  22.0            2.0",
            "text/html": "<div>\n<style scoped>\n    .dataframe tbody tr th:only-of-type {\n        vertical-align: middle;\n    }\n\n    .dataframe tbody tr th {\n        vertical-align: top;\n    }\n\n    .dataframe thead th {\n        text-align: right;\n    }\n</style>\n<table border=\"1\" class=\"dataframe\">\n  <thead>\n    <tr style=\"text-align: right;\">\n      <th></th>\n      <th>ID.x</th>\n      <th>Age</th>\n      <th>Age_bin_round</th>\n    </tr>\n  </thead>\n  <tbody>\n    <tr>\n      <th>15617</th>\n      <td>5b1323796ca6ab9a58936ff772dbb988</td>\n      <td>37.0</td>\n      <td>3.0</td>\n    </tr>\n    <tr>\n      <th>15618</th>\n      <td>afe9f743395dedb14b09fe3e1c4db2a6</td>\n      <td>26.0</td>\n      <td>2.0</td>\n    </tr>\n    <tr>\n      <th>15619</th>\n      <td>bcfd613973e7746c38f49cd8dfd9ec6c</td>\n      <td>22.0</td>\n      <td>2.0</td>\n    </tr>\n  </tbody>\n</table>\n</div>"
          },
          "metadata": {},
          "execution_count": 54
        }
      ]
    },
    {
      "cell_type": "markdown",
      "metadata": {
        "id": "AsUgR9Lt027T",
        "colab_type": "text"
      },
      "source": [
        "Definir la variable ID.x como variable de identificación. "
      ]
    },
    {
      "cell_type": "code",
      "metadata": {
        "id": "eNniSf4T027V",
        "colab_type": "code",
        "colab": {},
        "outputId": "6f6ae154-e7ae-4938-b155-005042ee82ce"
      },
      "source": [
        "pd.melt(coder_survey, id_vars = ['ID.x'], value_vars = ['Age', 'Age_bin_round'])"
      ],
      "execution_count": null,
      "outputs": [
        {
          "output_type": "execute_result",
          "data": {
            "text/html": [
              "<div>\n",
              "<style scoped>\n",
              "    .dataframe tbody tr th:only-of-type {\n",
              "        vertical-align: middle;\n",
              "    }\n",
              "\n",
              "    .dataframe tbody tr th {\n",
              "        vertical-align: top;\n",
              "    }\n",
              "\n",
              "    .dataframe thead th {\n",
              "        text-align: right;\n",
              "    }\n",
              "</style>\n",
              "<table border=\"1\" class=\"dataframe\">\n",
              "  <thead>\n",
              "    <tr style=\"text-align: right;\">\n",
              "      <th></th>\n",
              "      <th>ID.x</th>\n",
              "      <th>variable</th>\n",
              "      <th>value</th>\n",
              "    </tr>\n",
              "  </thead>\n",
              "  <tbody>\n",
              "    <tr>\n",
              "      <th>0</th>\n",
              "      <td>cef35615d61b202f1dc794ef2746df14</td>\n",
              "      <td>Age</td>\n",
              "      <td>28.0</td>\n",
              "    </tr>\n",
              "    <tr>\n",
              "      <th>1</th>\n",
              "      <td>323e5a113644d18185c743c241407754</td>\n",
              "      <td>Age</td>\n",
              "      <td>22.0</td>\n",
              "    </tr>\n",
              "    <tr>\n",
              "      <th>2</th>\n",
              "      <td>b29a1027e5cd062e654a63764157461d</td>\n",
              "      <td>Age</td>\n",
              "      <td>19.0</td>\n",
              "    </tr>\n",
              "    <tr>\n",
              "      <th>3</th>\n",
              "      <td>04a11e4bcb573a1261eb0d9948d32637</td>\n",
              "      <td>Age</td>\n",
              "      <td>26.0</td>\n",
              "    </tr>\n",
              "    <tr>\n",
              "      <th>4</th>\n",
              "      <td>9368291c93d5d5f5c8cdb1a575e18bec</td>\n",
              "      <td>Age</td>\n",
              "      <td>20.0</td>\n",
              "    </tr>\n",
              "    <tr>\n",
              "      <th>...</th>\n",
              "      <td>...</td>\n",
              "      <td>...</td>\n",
              "      <td>...</td>\n",
              "    </tr>\n",
              "    <tr>\n",
              "      <th>31235</th>\n",
              "      <td>734bc2496485b7857ade38d4490cd1ec</td>\n",
              "      <td>Age_bin_round</td>\n",
              "      <td>3.0</td>\n",
              "    </tr>\n",
              "    <tr>\n",
              "      <th>31236</th>\n",
              "      <td>8d838e8e4604e995d83c95ab764fe78c</td>\n",
              "      <td>Age_bin_round</td>\n",
              "      <td>2.0</td>\n",
              "    </tr>\n",
              "    <tr>\n",
              "      <th>31237</th>\n",
              "      <td>5b1323796ca6ab9a58936ff772dbb988</td>\n",
              "      <td>Age_bin_round</td>\n",
              "      <td>3.0</td>\n",
              "    </tr>\n",
              "    <tr>\n",
              "      <th>31238</th>\n",
              "      <td>afe9f743395dedb14b09fe3e1c4db2a6</td>\n",
              "      <td>Age_bin_round</td>\n",
              "      <td>2.0</td>\n",
              "    </tr>\n",
              "    <tr>\n",
              "      <th>31239</th>\n",
              "      <td>bcfd613973e7746c38f49cd8dfd9ec6c</td>\n",
              "      <td>Age_bin_round</td>\n",
              "      <td>2.0</td>\n",
              "    </tr>\n",
              "  </tbody>\n",
              "</table>\n",
              "<p>31240 rows × 3 columns</p>\n",
              "</div>"
            ],
            "text/plain": [
              "                                   ID.x       variable  value\n",
              "0      cef35615d61b202f1dc794ef2746df14            Age   28.0\n",
              "1      323e5a113644d18185c743c241407754            Age   22.0\n",
              "2      b29a1027e5cd062e654a63764157461d            Age   19.0\n",
              "3      04a11e4bcb573a1261eb0d9948d32637            Age   26.0\n",
              "4      9368291c93d5d5f5c8cdb1a575e18bec            Age   20.0\n",
              "...                                 ...            ...    ...\n",
              "31235  734bc2496485b7857ade38d4490cd1ec  Age_bin_round    3.0\n",
              "31236  8d838e8e4604e995d83c95ab764fe78c  Age_bin_round    2.0\n",
              "31237  5b1323796ca6ab9a58936ff772dbb988  Age_bin_round    3.0\n",
              "31238  afe9f743395dedb14b09fe3e1c4db2a6  Age_bin_round    2.0\n",
              "31239  bcfd613973e7746c38f49cd8dfd9ec6c  Age_bin_round    2.0\n",
              "\n",
              "[31240 rows x 3 columns]"
            ]
          },
          "metadata": {
            "tags": []
          },
          "execution_count": 15
        }
      ]
    },
    {
      "cell_type": "markdown",
      "metadata": {
        "id": "8LByHJFx027i",
        "colab_type": "text"
      },
      "source": [
        "### Binning based on custom ranges\n",
        "\n",
        "Crea una nueva columna en el dataframe que incluya categorías agrupadas (bins) tal y como se muestra a continuación:\n",
        "\n",
        "\n",
        "``` \n",
        "Age Range : Bin\n",
        "---------------\n",
        " 0 -  15  : 1\n",
        "16 -  30  : 2\n",
        "31 -  45  : 3\n",
        "46 -  60  : 4\n",
        "61 -  75  : 5\n",
        "76 - 100  : 6\n",
        "```"
      ]
    },
    {
      "cell_type": "code",
      "metadata": {
        "id": "qqWZMWJW027k",
        "colab_type": "code",
        "colab": {},
        "outputId": "8beb3a36-170c-48f4-96a2-308689e881c2"
      },
      "source": [
        "bin_ranges = [0, 15, 30, 45, 60, 75, 100]\n",
        "bin_names = [1, 2, 3, 4, 5, 6, 7]\n",
        "\n",
        "coder_survey[\"Age_bin_custom_range\"] = pd.cut(np.array(coder_survey[\"Age\"]), bins = bin_ranges)\n",
        "coder_survey[[\"ID.x\", \"Age\", \"Age_bin_round\", \"Age_bin_custom_range\"]].tail(3) #view the binned features "
      ],
      "execution_count": 56,
      "outputs": [
        {
          "output_type": "execute_result",
          "data": {
            "text/plain": "                                   ID.x   Age  Age_bin_round  \\\n15617  5b1323796ca6ab9a58936ff772dbb988  37.0            3.0   \n15618  afe9f743395dedb14b09fe3e1c4db2a6  26.0            2.0   \n15619  bcfd613973e7746c38f49cd8dfd9ec6c  22.0            2.0   \n\n      Age_bin_custom_range  \n15617             (30, 45]  \n15618             (15, 30]  \n15619             (15, 30]  ",
            "text/html": "<div>\n<style scoped>\n    .dataframe tbody tr th:only-of-type {\n        vertical-align: middle;\n    }\n\n    .dataframe tbody tr th {\n        vertical-align: top;\n    }\n\n    .dataframe thead th {\n        text-align: right;\n    }\n</style>\n<table border=\"1\" class=\"dataframe\">\n  <thead>\n    <tr style=\"text-align: right;\">\n      <th></th>\n      <th>ID.x</th>\n      <th>Age</th>\n      <th>Age_bin_round</th>\n      <th>Age_bin_custom_range</th>\n    </tr>\n  </thead>\n  <tbody>\n    <tr>\n      <th>15617</th>\n      <td>5b1323796ca6ab9a58936ff772dbb988</td>\n      <td>37.0</td>\n      <td>3.0</td>\n      <td>(30, 45]</td>\n    </tr>\n    <tr>\n      <th>15618</th>\n      <td>afe9f743395dedb14b09fe3e1c4db2a6</td>\n      <td>26.0</td>\n      <td>2.0</td>\n      <td>(15, 30]</td>\n    </tr>\n    <tr>\n      <th>15619</th>\n      <td>bcfd613973e7746c38f49cd8dfd9ec6c</td>\n      <td>22.0</td>\n      <td>2.0</td>\n      <td>(15, 30]</td>\n    </tr>\n  </tbody>\n</table>\n</div>"
          },
          "metadata": {},
          "execution_count": 56
        }
      ]
    },
    {
      "cell_type": "markdown",
      "metadata": {
        "id": "RIbHc-6Q027v",
        "colab_type": "text"
      },
      "source": [
        "## Quantile based binning\n",
        "Now we will work with the salaries of the dataset\n",
        "\n",
        "### Calculate the 0, .25, .5, .75, 1. quantiles."
      ]
    },
    {
      "cell_type": "code",
      "metadata": {
        "id": "qokrqhLN027z",
        "colab_type": "code",
        "colab": {},
        "outputId": "57c7402d-0d84-42ea-fb7b-2143d18eeb12"
      },
      "source": [
        "quantile_list = [0, 0.25, 0.5, 0.75, 1.0]\n",
        "quantiles = coder_survey[\"Income\"].quantile(quantile_list)\n",
        "quantiles"
      ],
      "execution_count": 57,
      "outputs": [
        {
          "output_type": "execute_result",
          "data": {
            "text/plain": "0.00      6000.0\n0.25     20000.0\n0.50     37000.0\n0.75     60000.0\n1.00    200000.0\nName: Income, dtype: float64"
          },
          "metadata": {},
          "execution_count": 57
        }
      ]
    },
    {
      "cell_type": "code",
      "execution_count": null,
      "metadata": {},
      "outputs": [],
      "source": []
    }
  ],
  "metadata": {
    "kernelspec": {
      "display_name": "Python 3.7.6 64-bit ('base': conda)",
      "language": "python",
      "name": "python37664bitbaseconda513a0352d0eb4c09a2aaf2386a53465e"
    },
    "language_info": {
      "codemirror_mode": {
        "name": "ipython",
        "version": 3
      },
      "file_extension": ".py",
      "mimetype": "text/x-python",
      "name": "python",
      "nbconvert_exporter": "python",
      "pygments_lexer": "ipython3",
      "version": "3.7.6-final"
    },
    "colab": {
      "name": "Ejercicios traducción Python - R.ipynb",
      "provenance": []
    }
  },
  "nbformat": 4,
  "nbformat_minor": 0
}